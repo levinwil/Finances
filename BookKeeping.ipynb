{
 "cells": [
  {
   "cell_type": "code",
   "execution_count": 23,
   "id": "c134e427",
   "metadata": {},
   "outputs": [
    {
     "name": "stdout",
     "output_type": "stream",
     "text": [
      "Real Estate: 16373.400000000001\n",
      "TMF: 4093.3500000000004\n",
      "UPRO/SOXL/TQQQ: 1364.45\n"
     ]
    }
   ],
   "source": [
    "total = 91867\n",
    "\n",
    "investments = total - 10000\n",
    "\n",
    "print(\"Real Estate: {}\".format(investments * .2))\n",
    "\n",
    "equities = investments * .8\n",
    "\n",
    "print(\"TMF: {}\".format(investments * .05))\n",
    "print(\"UPRO/SOXL/TQQQ: {}\".format(investments * .05 / 3))"
   ]
  },
  {
   "cell_type": "code",
   "execution_count": 45,
   "id": "2f2734aa",
   "metadata": {},
   "outputs": [
    {
     "name": "stdout",
     "output_type": "stream",
     "text": [
      "Retirement VBTLX: 4931.714285714286\n",
      "Retirement VTABX: 4931.714285714286\n",
      "Retirement VFIAX: 14795.142857142859\n",
      "Retirement VIGAX: 4931.714285714286\n",
      "Retirement VWIGX: 4931.714285714286\n",
      "\n",
      "Brokerage VBTLX: 3254.9857142857145\n",
      "Brokerage VTABX: 3254.9857142857145\n",
      "Brokerage VFIAX: 9764.95714285714\n",
      "Brokerage VIGAX: 3254.9857142857145\n",
      "Brokerage VWIGX: 3254.9857142857145\n"
     ]
    }
   ],
   "source": [
    "retirements = 19766 + 14756\n",
    "retirement_vbtlx = retirements * .1 / .7\n",
    "print(\"Retirement VBTLX: {}\".format(retirement_vbtlx))\n",
    "retirement_vtabx = retirements * .1 / .7\n",
    "print(\"Retirement VTABX: {}\".format(retirement_vtabx))\n",
    "retirement_vfiax = retirements * .3 / .7\n",
    "print(\"Retirement VFIAX: {}\".format(retirement_vfiax))\n",
    "retirement_vigax = retirements * .1 / .7\n",
    "print(\"Retirement VIGAX: {}\".format(retirement_vigax))\n",
    "retirement_vwigx = retirements * .1 / .7\n",
    "print(\"Retirement VWIGX: {}\".format(retirement_vwigx))\n",
    "print()\n",
    "\n",
    "print(\"Brokerage VBTLX: {}\".format(investments * .1 - retirement_vbtlx))\n",
    "print(\"Brokerage VTABX: {}\".format(investments * .1 - retirement_vtabx))\n",
    "print(\"Brokerage VFIAX: {}\".format(investments * .3 - retirement_vfiax))\n",
    "print(\"Brokerage VIGAX: {}\".format(investments * .1 - retirement_vbtlx))\n",
    "print(\"Brokerage VWIGX: {}\".format(investments * .1 - retirement_vwigx))"
   ]
  },
  {
   "cell_type": "code",
   "execution_count": null,
   "id": "e1620dc5",
   "metadata": {},
   "outputs": [],
   "source": []
  }
 ],
 "metadata": {
  "kernelspec": {
   "display_name": "Python 3",
   "language": "python",
   "name": "python3"
  },
  "language_info": {
   "codemirror_mode": {
    "name": "ipython",
    "version": 3
   },
   "file_extension": ".py",
   "mimetype": "text/x-python",
   "name": "python",
   "nbconvert_exporter": "python",
   "pygments_lexer": "ipython3",
   "version": "3.8.8"
  }
 },
 "nbformat": 4,
 "nbformat_minor": 5
}
